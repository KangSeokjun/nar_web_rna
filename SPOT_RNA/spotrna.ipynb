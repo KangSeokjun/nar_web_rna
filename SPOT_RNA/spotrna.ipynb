{
 "cells": [
  {
   "cell_type": "code",
   "execution_count": 1,
   "metadata": {},
   "outputs": [
    {
     "name": "stderr",
     "output_type": "stream",
     "text": [
      "/home/gwsuh/miniconda3/envs/nar/lib/python3.6/site-packages/tensorflow/python/framework/dtypes.py:516: FutureWarning: Passing (type, 1) or '1type' as a synonym of type is deprecated; in a future version of numpy, it will be understood as (type, (1,)) / '(1,)type'.\n",
      "  _np_qint8 = np.dtype([(\"qint8\", np.int8, 1)])\n",
      "/home/gwsuh/miniconda3/envs/nar/lib/python3.6/site-packages/tensorflow/python/framework/dtypes.py:517: FutureWarning: Passing (type, 1) or '1type' as a synonym of type is deprecated; in a future version of numpy, it will be understood as (type, (1,)) / '(1,)type'.\n",
      "  _np_quint8 = np.dtype([(\"quint8\", np.uint8, 1)])\n",
      "/home/gwsuh/miniconda3/envs/nar/lib/python3.6/site-packages/tensorflow/python/framework/dtypes.py:518: FutureWarning: Passing (type, 1) or '1type' as a synonym of type is deprecated; in a future version of numpy, it will be understood as (type, (1,)) / '(1,)type'.\n",
      "  _np_qint16 = np.dtype([(\"qint16\", np.int16, 1)])\n",
      "/home/gwsuh/miniconda3/envs/nar/lib/python3.6/site-packages/tensorflow/python/framework/dtypes.py:519: FutureWarning: Passing (type, 1) or '1type' as a synonym of type is deprecated; in a future version of numpy, it will be understood as (type, (1,)) / '(1,)type'.\n",
      "  _np_quint16 = np.dtype([(\"quint16\", np.uint16, 1)])\n",
      "/home/gwsuh/miniconda3/envs/nar/lib/python3.6/site-packages/tensorflow/python/framework/dtypes.py:520: FutureWarning: Passing (type, 1) or '1type' as a synonym of type is deprecated; in a future version of numpy, it will be understood as (type, (1,)) / '(1,)type'.\n",
      "  _np_qint32 = np.dtype([(\"qint32\", np.int32, 1)])\n",
      "/home/gwsuh/miniconda3/envs/nar/lib/python3.6/site-packages/tensorflow/python/framework/dtypes.py:525: FutureWarning: Passing (type, 1) or '1type' as a synonym of type is deprecated; in a future version of numpy, it will be understood as (type, (1,)) / '(1,)type'.\n",
      "  np_resource = np.dtype([(\"resource\", np.ubyte, 1)])\n",
      "/home/gwsuh/miniconda3/envs/nar/lib/python3.6/site-packages/tensorboard/compat/tensorflow_stub/dtypes.py:541: FutureWarning: Passing (type, 1) or '1type' as a synonym of type is deprecated; in a future version of numpy, it will be understood as (type, (1,)) / '(1,)type'.\n",
      "  _np_qint8 = np.dtype([(\"qint8\", np.int8, 1)])\n",
      "/home/gwsuh/miniconda3/envs/nar/lib/python3.6/site-packages/tensorboard/compat/tensorflow_stub/dtypes.py:542: FutureWarning: Passing (type, 1) or '1type' as a synonym of type is deprecated; in a future version of numpy, it will be understood as (type, (1,)) / '(1,)type'.\n",
      "  _np_quint8 = np.dtype([(\"quint8\", np.uint8, 1)])\n",
      "/home/gwsuh/miniconda3/envs/nar/lib/python3.6/site-packages/tensorboard/compat/tensorflow_stub/dtypes.py:543: FutureWarning: Passing (type, 1) or '1type' as a synonym of type is deprecated; in a future version of numpy, it will be understood as (type, (1,)) / '(1,)type'.\n",
      "  _np_qint16 = np.dtype([(\"qint16\", np.int16, 1)])\n",
      "/home/gwsuh/miniconda3/envs/nar/lib/python3.6/site-packages/tensorboard/compat/tensorflow_stub/dtypes.py:544: FutureWarning: Passing (type, 1) or '1type' as a synonym of type is deprecated; in a future version of numpy, it will be understood as (type, (1,)) / '(1,)type'.\n",
      "  _np_quint16 = np.dtype([(\"quint16\", np.uint16, 1)])\n",
      "/home/gwsuh/miniconda3/envs/nar/lib/python3.6/site-packages/tensorboard/compat/tensorflow_stub/dtypes.py:545: FutureWarning: Passing (type, 1) or '1type' as a synonym of type is deprecated; in a future version of numpy, it will be understood as (type, (1,)) / '(1,)type'.\n",
      "  _np_qint32 = np.dtype([(\"qint32\", np.int32, 1)])\n",
      "/home/gwsuh/miniconda3/envs/nar/lib/python3.6/site-packages/tensorboard/compat/tensorflow_stub/dtypes.py:550: FutureWarning: Passing (type, 1) or '1type' as a synonym of type is deprecated; in a future version of numpy, it will be understood as (type, (1,)) / '(1,)type'.\n",
      "  np_resource = np.dtype([(\"resource\", np.ubyte, 1)])\n"
     ]
    }
   ],
   "source": [
    "import tensorflow as tf\n",
    "import numpy as np\n",
    "import os\n",
    "from tqdm import tqdm\n",
    "import argparse\n",
    "from utils.utils import create_tfr_files, prob_to_secondary_structure\n",
    "from utils.FastaMLtoSL import FastaMLtoSL\n",
    "import time"
   ]
  },
  {
   "cell_type": "code",
   "execution_count": 2,
   "metadata": {},
   "outputs": [
    {
     "name": "stdout",
     "output_type": "stream",
     "text": [
      "1.14.0\n"
     ]
    }
   ],
   "source": [
    "print(tf.__version__)"
   ]
  },
  {
   "cell_type": "code",
   "execution_count": 3,
   "metadata": {},
   "outputs": [
    {
     "name": "stdout",
     "output_type": "stream",
     "text": [
      ">> Opening FASTA file...\n",
      ">> Converting FASTA file from multiline to single line and writing to file.\n",
      ">> Done!\n",
      "\n",
      "Preparing tfr records file for SPOT-RNA:\n"
     ]
    },
    {
     "name": "stderr",
     "output_type": "stream",
     "text": [
      "100%|██████████| 1/1 [00:00<00:00, 17.06it/s]\n"
     ]
    }
   ],
   "source": [
    "os.environ['TF_CPP_MIN_LOG_LEVEL'] = '3'\n",
    "tf.compat.v1.logging.set_verbosity(tf.compat.v1.logging.ERROR)\n",
    "\n",
    "inputs = '/home/gwsuh/ksj/test.fasta'\n",
    "FastaMLtoSL(inputs)\n",
    "\n",
    "base_path = os.path.dirname(os.path.realpath('/home/gwsuh/ksj/SPOT-RNA/spotrna.ipynb'))\n",
    "input_file = os.path.basename(inputs)\n",
    "\n",
    "create_tfr_files(inputs, base_path, input_file)\n",
    "\n",
    "with open(inputs) as file:\n",
    "    input_data = [line.strip() for line in file.read().splitlines() if line.strip()]\n",
    "\n",
    "count = int(len(input_data)/2)\n",
    "\n",
    "ids = [input_data[2*i].replace(\">\", \"\") for i in range(count)]\n",
    "sequences = {}"
   ]
  },
  {
   "cell_type": "code",
   "execution_count": 3,
   "metadata": {},
   "outputs": [
    {
     "name": "stdout",
     "output_type": "stream",
     "text": [
      "['AAAB01008933.1001579.ct']\n",
      "/home/gwsuh/ksj/SPOT-RNA\n",
      "test.fasta\n"
     ]
    }
   ],
   "source": [
    "print(ids)\n",
    "print(base_path)\n",
    "print(input_file)"
   ]
  },
  {
   "cell_type": "code",
   "execution_count": 4,
   "metadata": {},
   "outputs": [],
   "source": [
    "for i,I in enumerate(ids):\n",
    "    sequences[I] = input_data[2*i+1].replace(\" \", \"\").upper().replace(\"T\", \"U\")\n",
    "\n",
    "os.environ[\"CUDA_VISIBLE_DEVICES\"]= str(5)\n",
    "#os.environ['TF_CPP_MIN_LOG_LEVEL'] = '3' \n",
    "NUM_MODELS = 5\n",
    "\n",
    "test_loc = [os.path.join(base_path, 'input_tfr_files', input_file+'.tfrecords')]\n",
    "\n",
    "outputs = {}\n",
    "mask = {}\n",
    "def sigmoid(x):\n",
    "    return 1/(1+np.exp(-np.array(x, dtype=np.float128)))"
   ]
  },
  {
   "cell_type": "code",
   "execution_count": 5,
   "metadata": {},
   "outputs": [
    {
     "name": "stdout",
     "output_type": "stream",
     "text": [
      "['/home/gwsuh/ksj/SPOT-RNA/input_tfr_files/test.fasta.tfrecords']\n",
      "141\n"
     ]
    }
   ],
   "source": [
    "print(test_loc)\n",
    "print(len(sequences['AAAB01008933.1001579.ct']))"
   ]
  },
  {
   "cell_type": "code",
   "execution_count": 5,
   "metadata": {},
   "outputs": [
    {
     "name": "stdout",
     "output_type": "stream",
     "text": [
      "\n",
      "Predicting for SPOT-RNA model 0\n"
     ]
    },
    {
     "name": "stderr",
     "output_type": "stream",
     "text": [
      "100%|██████████| 1/1 [00:00<00:00,  1.29it/s]\n"
     ]
    },
    {
     "name": "stdout",
     "output_type": "stream",
     "text": [
      "\n",
      "Predicting for SPOT-RNA model 1\n"
     ]
    },
    {
     "name": "stderr",
     "output_type": "stream",
     "text": [
      "100%|██████████| 1/1 [00:00<00:00,  1.09it/s]\n"
     ]
    },
    {
     "name": "stdout",
     "output_type": "stream",
     "text": [
      "\n",
      "Predicting for SPOT-RNA model 2\n"
     ]
    },
    {
     "name": "stderr",
     "output_type": "stream",
     "text": [
      "100%|██████████| 1/1 [00:01<00:00,  1.26s/it]\n"
     ]
    },
    {
     "name": "stdout",
     "output_type": "stream",
     "text": [
      "\n",
      "Predicting for SPOT-RNA model 3\n"
     ]
    },
    {
     "name": "stderr",
     "output_type": "stream",
     "text": [
      "100%|██████████| 1/1 [00:01<00:00,  1.83s/it]\n"
     ]
    },
    {
     "name": "stdout",
     "output_type": "stream",
     "text": [
      "\n",
      "Predicting for SPOT-RNA model 4\n"
     ]
    },
    {
     "name": "stderr",
     "output_type": "stream",
     "text": [
      "100%|██████████| 1/1 [00:02<00:00,  2.30s/it]\n"
     ]
    }
   ],
   "source": [
    "for MODEL in range(NUM_MODELS):\n",
    "    config = tf.compat.v1.ConfigProto()\n",
    "    config.allow_soft_placement=True\n",
    "    config.log_device_placement=False\n",
    "    config.gpu_options.allow_growth = True\n",
    "\n",
    "    print('\\nPredicting for SPOT-RNA model '+str(MODEL))\n",
    "    with tf.compat.v1.Session(config=config) as sess:\n",
    "        saver = tf.compat.v1.train.import_meta_graph(os.path.join(base_path, 'SPOT-RNA-models', 'model' + str(MODEL) + '.meta'))\n",
    "        saver.restore(sess,os.path.join(base_path, 'SPOT-RNA-models', 'model' + str(MODEL)))\n",
    "        graph = tf.compat.v1.get_default_graph()\n",
    "        init_test =  graph.get_operation_by_name('make_initializer_2')\n",
    "        tmp_out = graph.get_tensor_by_name('output_FC/fully_connected/BiasAdd:0')\n",
    "        name_tensor = graph.get_tensor_by_name('tensors_2/component_0:0')\n",
    "        RNA_name = graph.get_tensor_by_name('IteratorGetNext:0')\n",
    "        label_mask = graph.get_tensor_by_name('IteratorGetNext:4')\n",
    "        sess.run(init_test,feed_dict={name_tensor:test_loc})\n",
    "        \n",
    "        pbar = tqdm(total = count)\n",
    "        while True:\n",
    "            try:        \n",
    "                out = sess.run([tmp_out,RNA_name,label_mask],feed_dict={'dropout:0':1})\n",
    "                out[1] = out[1].decode()\n",
    "                mask[out[1]] = out[2]\n",
    "                \n",
    "                if MODEL == 0:\n",
    "                    outputs[out[1]] = [sigmoid(out[0])]\n",
    "                else:\n",
    "                    outputs[out[1]].append(sigmoid(out[0]))\n",
    "                #print('RNA name: %s'%(out[1]))\n",
    "                pbar.update(1)\n",
    "            except tf.errors.OutOfRangeError:\n",
    "                break\n",
    "        pbar.close()\n",
    "    tf.compat.v1.reset_default_graph()"
   ]
  },
  {
   "cell_type": "code",
   "execution_count": 7,
   "metadata": {},
   "outputs": [
    {
     "data": {
      "text/plain": [
       "(5, 9730, 1)"
      ]
     },
     "execution_count": 7,
     "metadata": {},
     "output_type": "execute_result"
    }
   ],
   "source": [
    "np.array(outputs['AAAB01008933.1001579.ct']).shape"
   ]
  },
  {
   "cell_type": "code",
   "execution_count": 6,
   "metadata": {},
   "outputs": [],
   "source": [
    "RNA_ids = [i for i in list(outputs.keys())]\n",
    "ensemble_outputs = {}"
   ]
  },
  {
   "cell_type": "code",
   "execution_count": 7,
   "metadata": {},
   "outputs": [],
   "source": [
    "def output_mask(seq, NC=True):\n",
    "    if NC:\n",
    "        include_pairs = ['AU', 'UA', 'GC', 'CG', 'GU', 'UG', 'CC', 'GG', 'AG', 'CA', 'AC', 'UU', 'AA', 'CU', 'GA', 'UC']\n",
    "    else:\n",
    "        include_pairs = ['AU', 'UA', 'GC', 'CG', 'GU', 'UG']\n",
    "    mask = np.zeros((len(seq), len(seq)))\n",
    "    for i, I in enumerate(seq):\n",
    "        for j, J in enumerate(seq):\n",
    "            if str(I) + str(J) in include_pairs:\n",
    "                mask[i, j] = 1\n",
    "    return mask"
   ]
  },
  {
   "cell_type": "code",
   "execution_count": 8,
   "metadata": {},
   "outputs": [
    {
     "name": "stdout",
     "output_type": "stream",
     "text": [
      "(141, 141)\n"
     ]
    }
   ],
   "source": [
    "for i in RNA_ids:\n",
    "    ensemble_outputs[i] = np.mean(outputs[i],0)\n",
    "    \n",
    "    # print('\\n\\n\\n\\n\\n shape: {} \\n\\n\\n\\n\\n'.format(np.array(ensemble_outputs[i]).shape))\n",
    "    \n",
    "    ensemble_outputs_post = ensemble_outputs[i]\n",
    "    label_mask = mask[i]\n",
    "    seq = sequences[i]\n",
    "    name = i\n",
    "    Threshold = 0.335\n",
    "    test_output = ensemble_outputs_post\n",
    "    mask_post = output_mask(seq)\n",
    "    inds = np.where(label_mask == 1)\n",
    "    y_pred = np.zeros(label_mask.shape)\n",
    "    \n",
    "    for i in range(test_output.shape[0]):\n",
    "        y_pred[inds[0][i], inds[1][i]] = test_output[i]\n",
    "    y_pred = np.multiply(y_pred, mask_post)\n",
    "    \n",
    "    print(y_pred.shape)\n",
    "    \n",
    "    \n",
    "    # prob_to_secondary_structure(ensemble_outputs[i], mask[i], sequences[i], i, args, base_path)"
   ]
  },
  {
   "cell_type": "code",
   "execution_count": null,
   "metadata": {},
   "outputs": [
    {
     "data": {
      "text/plain": [
       "array([[0.00000000e+00, 0.00000000e+00, 4.70652880e-04, ...,\n",
       "        4.39165109e-05, 1.71809056e-04, 5.40575038e-04],\n",
       "       [0.00000000e+00, 0.00000000e+00, 0.00000000e+00, ...,\n",
       "        7.29930203e-03, 6.76447263e-03, 4.58156017e-04],\n",
       "       [0.00000000e+00, 0.00000000e+00, 0.00000000e+00, ...,\n",
       "        5.56251952e-03, 1.37271040e-04, 1.69373845e-04],\n",
       "       ...,\n",
       "       [0.00000000e+00, 0.00000000e+00, 0.00000000e+00, ...,\n",
       "        0.00000000e+00, 0.00000000e+00, 6.68556936e-07],\n",
       "       [0.00000000e+00, 0.00000000e+00, 0.00000000e+00, ...,\n",
       "        0.00000000e+00, 0.00000000e+00, 0.00000000e+00],\n",
       "       [0.00000000e+00, 0.00000000e+00, 0.00000000e+00, ...,\n",
       "        0.00000000e+00, 0.00000000e+00, 0.00000000e+00]])"
      ]
     },
     "execution_count": 9,
     "metadata": {},
     "output_type": "execute_result"
    }
   ],
   "source": [
    "y_pred"
   ]
  },
  {
   "cell_type": "code",
   "execution_count": 10,
   "metadata": {},
   "outputs": [],
   "source": [
    "np.save(os.path.join('/home/gwsuh/ksj/SPOT-RNA/', input_file.replace('.ct', '_raw_predict_.npy')), y_pred)"
   ]
  },
  {
   "cell_type": "code",
   "execution_count": null,
   "metadata": {},
   "outputs": [],
   "source": []
  }
 ],
 "metadata": {
  "kernelspec": {
   "display_name": "nar",
   "language": "python",
   "name": "python3"
  },
  "language_info": {
   "codemirror_mode": {
    "name": "ipython",
    "version": 3
   },
   "file_extension": ".py",
   "mimetype": "text/x-python",
   "name": "python",
   "nbconvert_exporter": "python",
   "pygments_lexer": "ipython3",
   "version": "3.6.13"
  }
 },
 "nbformat": 4,
 "nbformat_minor": 2
}
