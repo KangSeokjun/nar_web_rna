{
 "cells": [
  {
   "cell_type": "code",
   "execution_count": 25,
   "metadata": {},
   "outputs": [],
   "source": [
    "import numpy as np\n",
    "import subprocess\n",
    "import collections\n",
    "import pickle as cPickle\n",
    "import random\n",
    "import time\n",
    "import sys\n",
    "import os\n",
    "import json\n",
    "\n",
    "from Bio import SeqIO\n",
    "from itertools import product, combinations\n",
    "\n",
    "# sys.path.append(os.path.dirname(os.path.abspath(os.path.dirname(__file__))))\n",
    "sys.path.append('./..')\n",
    "\n",
    "from REDfold.utils.utils import *\n",
    "\n",
    "BASE1 = 'AUCG'\n",
    "pair_set= {'AU','UA','CG','GC','GU','UG'}\n",
    "\n",
    "global npBASE1\n",
    "global dcBASE2\n",
    "\n",
    "def one_hot(seq1):\n",
    "    RNA_seq= seq1\n",
    "\n",
    "    feat= np.concatenate([[(npBASE1 == base.upper()).astype(int)] \n",
    "          if str(base).upper() in BASE1 else np.array([[0] * len(BASE1)]) for base in RNA_seq])\n",
    "\n",
    "    return feat\n",
    "\n",
    "\n",
    "def one_hot_2m(seq1):\n",
    "    L1= len(seq1)\n",
    "    feat= np.zeros((L1,16))\n",
    "    for i in range(0,L1-1):\n",
    "      Id1= str(seq1[i:i+2]).upper()\n",
    "      if Id1 in dcBASE2:\n",
    "        feat[i,dcBASE2[Id1]]= 1\n",
    "    #Circle Back 2mer\n",
    "    Id1= str(seq1[-1]+seq1[0]).upper()\n",
    "    feat[L1-1,dcBASE2[Id1]]= 1\n",
    "\n",
    "    return feat\n",
    "\n",
    "def get_cut_len(data_len,set_len):\n",
    "    L= data_len\n",
    "    if L<= set_len:\n",
    "        L= set_len\n",
    "    else:\n",
    "        L= (((L - 1) // 16) + 1) * 16\n",
    "    return L\n",
    "\n",
    "\n",
    "#- Check standard pairs\n",
    "def check_stand(pairs, seq):\n",
    "  for pair in pairs:\n",
    "    str1= seq[pair[0]]+seq[pair[1]]\n",
    "    if (str1 not in pair_set):\n",
    "      print(f\"Error: Pair({pair})->{str1}\")\n",
    "      return False\n",
    "      \n",
    "  return True\n",
    "\n",
    "\n",
    "def pair2map(pairs, seq_len):\n",
    "  pmap= np.zeros([seq_len, seq_len])\n",
    "  for pair in pairs:\n",
    "    pmap[pair[0], pair[1]] = 1\n",
    "  return pmap"
   ]
  },
  {
   "cell_type": "code",
   "execution_count": 26,
   "metadata": {},
   "outputs": [],
   "source": [
    "RNA_SS_data = collections.namedtuple('RNA_SS_data','name length seq_hot data_pair data_seq1 data_seq2')\n",
    "\n",
    "all_files_list = []\n",
    "\n",
    "npBASE1= np.array([b1 for b1 in BASE1])\n",
    "npBASE2= np.array([\"\".join(b2) for b2 in product(npBASE1,npBASE1)])\n",
    "dcBASE2= {}\n",
    "for [a,b] in enumerate(npBASE2):\n",
    "  dcBASE2[b]= a\n",
    "  \n",
    "all_files= os.listdir('/media/ksj/testcts')"
   ]
  },
  {
   "cell_type": "code",
   "execution_count": 27,
   "metadata": {},
   "outputs": [
    {
     "data": {
      "text/plain": [
       "['test3.ct', 'test.ct', 'test2.ct']"
      ]
     },
     "execution_count": 27,
     "metadata": {},
     "output_type": "execute_result"
    }
   ],
   "source": [
    "all_files"
   ]
  },
  {
   "cell_type": "code",
   "execution_count": 28,
   "metadata": {},
   "outputs": [],
   "source": [
    "t0= subprocess.getstatusoutput('awk \\'{print $2}\\' '+os.path.join('/media/ksj/testcts','test3.ct'))\n",
    "t0 = subprocess.getstatusoutput(\"awk 'NR > 1 {print $2}' \" +os.path.join('/media/ksj/testcts','test3.ct'))\n",
    "t1= subprocess.getstatusoutput(\"awk 'NR > 1 {print $1}' \"+os.path.join('/media/ksj/testcts','test3.ct'))\n",
    "t2= subprocess.getstatusoutput(\"awk 'NR > 1 {print $5}' \"+os.path.join('/media/ksj/testcts','test3.ct'))\n",
    "seq= ''.join(t0[1].split('\\n'))"
   ]
  },
  {
   "cell_type": "code",
   "execution_count": 32,
   "metadata": {},
   "outputs": [
    {
     "data": {
      "text/plain": [
       "'CAGCG'"
      ]
     },
     "execution_count": 32,
     "metadata": {},
     "output_type": "execute_result"
    }
   ],
   "source": [
    "seq"
   ]
  },
  {
   "cell_type": "code",
   "execution_count": 33,
   "metadata": {},
   "outputs": [],
   "source": [
    "one_hot_matrix= one_hot(seq.upper())\n",
    "one_hot_mat2= one_hot_2m(seq.upper())"
   ]
  },
  {
   "cell_type": "code",
   "execution_count": 35,
   "metadata": {},
   "outputs": [
    {
     "data": {
      "text/plain": [
       "array([[0., 0., 0., 0., 0., 0., 0., 0., 1., 0., 0., 0., 0., 0., 0., 0.],\n",
       "       [0., 0., 0., 1., 0., 0., 0., 0., 0., 0., 0., 0., 0., 0., 0., 0.],\n",
       "       [0., 0., 0., 0., 0., 0., 0., 0., 0., 0., 0., 0., 0., 0., 1., 0.],\n",
       "       [0., 0., 0., 0., 0., 0., 0., 0., 0., 0., 0., 1., 0., 0., 0., 0.],\n",
       "       [0., 0., 0., 0., 0., 0., 0., 0., 0., 0., 0., 0., 0., 0., 1., 0.]])"
      ]
     },
     "execution_count": 35,
     "metadata": {},
     "output_type": "execute_result"
    }
   ],
   "source": [
    "one_hot_mat2"
   ]
  },
  {
   "cell_type": "code",
   "execution_count": 36,
   "metadata": {},
   "outputs": [],
   "source": [
    "pair_dict_all_list = [[int(item_tmp)-1,int(t2[1].split('\\n')[index_tmp])-1] for index_tmp,item_tmp in enumerate(t1[1].split('\\n')) if int(t2[1].split('\\n')[index_tmp]) != 0]"
   ]
  },
  {
   "cell_type": "code",
   "execution_count": 37,
   "metadata": {},
   "outputs": [
    {
     "data": {
      "text/plain": [
       "[]"
      ]
     },
     "execution_count": 37,
     "metadata": {},
     "output_type": "execute_result"
    }
   ],
   "source": [
    "pair_dict_all_list"
   ]
  },
  {
   "cell_type": "code",
   "execution_count": 39,
   "metadata": {},
   "outputs": [],
   "source": [
    "seq_name = 'test'\n",
    "  \n",
    "seq_len = len(seq)"
   ]
  },
  {
   "cell_type": "code",
   "execution_count": 40,
   "metadata": {},
   "outputs": [],
   "source": [
    "pair_dict_all = dict([item for item in pair_dict_all_list if item[0]<item[1]])"
   ]
  },
  {
   "cell_type": "code",
   "execution_count": 41,
   "metadata": {},
   "outputs": [
    {
     "data": {
      "text/plain": [
       "{}"
      ]
     },
     "execution_count": 41,
     "metadata": {},
     "output_type": "execute_result"
    }
   ],
   "source": [
    "pair_dict_all"
   ]
  },
  {
   "cell_type": "code",
   "execution_count": 42,
   "metadata": {},
   "outputs": [],
   "source": [
    "ss_label = np.zeros((seq_len,3),dtype=int)"
   ]
  },
  {
   "cell_type": "code",
   "execution_count": 43,
   "metadata": {},
   "outputs": [
    {
     "data": {
      "text/plain": [
       "array([[0, 0, 0],\n",
       "       [0, 0, 0],\n",
       "       [0, 0, 0],\n",
       "       [0, 0, 0],\n",
       "       [0, 0, 0]])"
      ]
     },
     "execution_count": 43,
     "metadata": {},
     "output_type": "execute_result"
    }
   ],
   "source": [
    "ss_label"
   ]
  },
  {
   "cell_type": "code",
   "execution_count": 44,
   "metadata": {},
   "outputs": [
    {
     "data": {
      "text/plain": [
       "{}"
      ]
     },
     "execution_count": 44,
     "metadata": {},
     "output_type": "execute_result"
    }
   ],
   "source": [
    "dict()"
   ]
  },
  {
   "cell_type": "code",
   "execution_count": 45,
   "metadata": {},
   "outputs": [],
   "source": [
    "L= get_cut_len(seq_len,80)\n",
    "  \n",
    "##-Trans seq to seq_length\n",
    "one_hot_matrix_LM= np.zeros((L,4))\n",
    "one_hot_matrix_LM[:seq_len,]= one_hot_matrix\n",
    "# ss_label_L= np.zeros((L,3),dtype=int)\n",
    "\n",
    "one_hot_mat2_LM= np.zeros((L,16))\n",
    "one_hot_mat2_LM[:seq_len,]= one_hot_mat2"
   ]
  },
  {
   "cell_type": "code",
   "execution_count": 47,
   "metadata": {},
   "outputs": [],
   "source": [
    "data_seq1= one_hot_matrix_LM\n",
    "data_seq2= one_hot_mat2_LM\n",
    "\n",
    "##-Seq_onehot\n",
    "seq_hot= one_hot_matrix_LM[:L,:]\n",
    "data_pair= pair2map(pair_dict_all_list,L)"
   ]
  },
  {
   "cell_type": "code",
   "execution_count": 49,
   "metadata": {},
   "outputs": [
    {
     "data": {
      "text/plain": [
       "array([[0., 0., 0., ..., 0., 0., 0.],\n",
       "       [0., 0., 0., ..., 0., 0., 0.],\n",
       "       [0., 0., 0., ..., 0., 0., 0.],\n",
       "       ...,\n",
       "       [0., 0., 0., ..., 0., 0., 0.],\n",
       "       [0., 0., 0., ..., 0., 0., 0.],\n",
       "       [0., 0., 0., ..., 0., 0., 0.]])"
      ]
     },
     "execution_count": 49,
     "metadata": {},
     "output_type": "execute_result"
    }
   ],
   "source": [
    "data_pair"
   ]
  },
  {
   "cell_type": "code",
   "execution_count": null,
   "metadata": {},
   "outputs": [],
   "source": []
  }
 ],
 "metadata": {
  "kernelspec": {
   "display_name": "nar",
   "language": "python",
   "name": "python3"
  },
  "language_info": {
   "codemirror_mode": {
    "name": "ipython",
    "version": 3
   },
   "file_extension": ".py",
   "mimetype": "text/x-python",
   "name": "python",
   "nbconvert_exporter": "python",
   "pygments_lexer": "ipython3",
   "version": "3.6.13"
  }
 },
 "nbformat": 4,
 "nbformat_minor": 2
}
