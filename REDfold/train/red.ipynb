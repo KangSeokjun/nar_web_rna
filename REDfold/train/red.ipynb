{
 "cells": [
  {
   "cell_type": "code",
   "execution_count": 2,
   "metadata": {},
   "outputs": [],
   "source": [
    "import numpy as np\n",
    "import subprocess\n",
    "import collections\n",
    "import random\n",
    "import time\n",
    "import sys\n",
    "import os\n",
    "from tqdm import tqdm\n",
    "import json\n",
    "import csv\n",
    "\n",
    "#from network import FCDenseNet as Model\n",
    "import torch\n",
    "import torch.backends.cudnn as cudnn\n",
    "from torch.utils.data import DataLoader\n",
    "from torch.autograd import Variable\n",
    "\n",
    "# sys.path.append(os.path.dirname(os.path.abspath(os.path.dirname(__file__))))\n",
    "sys.path.append('./..')\n",
    "\n",
    "from utils.utils import *\n",
    "from data_generator.data_generator import RNASSDataGenerator\n",
    "from data_generator.data_generator import Dataset_Cut_concat_new_canonicle as Dataset_FCN\n",
    "from model.models import FCDenseNet\n",
    "from utils.postprocess import postprocess_orig, postprocess_proposed\n",
    "\n"
   ]
  },
  {
   "cell_type": "code",
   "execution_count": 7,
   "metadata": {},
   "outputs": [
    {
     "name": "stdout",
     "output_type": "stream",
     "text": [
      "test data loading...\n"
     ]
    },
    {
     "data": {
      "text/plain": [
       "<All keys matched successfully>"
      ]
     },
     "execution_count": 7,
     "metadata": {},
     "output_type": "execute_result"
    }
   ],
   "source": [
    "device_num = 0\n",
    "pickle_path = '/media/ksj/nar_web_rna/test/test_red.pickle'\n",
    "\n",
    "# nc seed 2 epoch 124 s 0\n",
    "model_path = '/media/ksj/nar_web_rna/REDfold/model/redfold_model.pt'\n",
    "\n",
    "# 나중에 바꾸기\n",
    "num_of_device = 2\n",
    "use_device_num = device_num\n",
    "batch_n = 1\n",
    "set_gamma = 0\n",
    "set_rho= set_gamma+0.1\n",
    "set_L1= 1\n",
    "\n",
    "RNA_SS_data = collections.namedtuple('RNA_SS_data','name length seq_hot data_pair data_seq1 data_seq2')\n",
    "\n",
    "os.environ[\"CUDA_VISIBLE_DEVICES\"] = generate_visible_device(num_of_device)\n",
    "\n",
    "device = torch.device('cuda:{}'.format(use_device_num))\n",
    "\n",
    "Use_gpu= torch.cuda.is_available()\n",
    "\n",
    "print('test data loading...')\n",
    "\n",
    "test_data= RNASSDataGenerator(pickle_path,720)\n",
    "test_len= len(test_data)\n",
    "test_set= Dataset_FCN(test_data)\n",
    "\n",
    "dataloader_test= DataLoader(dataset=test_set, batch_size=batch_n, shuffle=1, num_workers=12)\n",
    "\n",
    "#- Network\n",
    "model= FCDenseNet(in_channels=146,out_channels=1,\n",
    "                initial_num_features=16,\n",
    "                dropout=0,\n",
    "\n",
    "                down_dense_growth_rates=(4,8,16,32),\n",
    "                down_dense_bottleneck_ratios=None,\n",
    "                down_dense_num_layers=(4,4,4,4),\n",
    "                down_transition_compression_factors=1.0,\n",
    "\n",
    "                middle_dense_growth_rate=32,\n",
    "                middle_dense_bottleneck=None,\n",
    "                middle_dense_num_layers=8,\n",
    "\n",
    "                up_dense_growth_rates=(64,32,16,8),\n",
    "                up_dense_bottleneck_ratios=None,\n",
    "                up_dense_num_layers=(4,4,4,4))\n",
    "\n",
    "optimizer= torch.optim.Adam(model.parameters())\n",
    "\n",
    "# Model on GPU\n",
    "if Use_gpu:\n",
    "    model= model.to(device)\n",
    "\n",
    "mod_state= torch.load(model_path, map_location=device)\n",
    "model.load_state_dict(mod_state['state_dict'])"
   ]
  },
  {
   "cell_type": "code",
   "execution_count": 8,
   "metadata": {},
   "outputs": [],
   "source": [
    "torch.save(model.state_dict(), '/media/ksj/nar_web_rna/REDfold/model/redfold_model_new.pt', _use_new_zipfile_serialization=False)"
   ]
  },
  {
   "cell_type": "code",
   "execution_count": null,
   "metadata": {},
   "outputs": [],
   "source": []
  }
 ],
 "metadata": {
  "kernelspec": {
   "display_name": "redfold",
   "language": "python",
   "name": "python3"
  },
  "language_info": {
   "codemirror_mode": {
    "name": "ipython",
    "version": 3
   },
   "file_extension": ".py",
   "mimetype": "text/x-python",
   "name": "python",
   "nbconvert_exporter": "python",
   "pygments_lexer": "ipython3",
   "version": "3.7.16"
  }
 },
 "nbformat": 4,
 "nbformat_minor": 2
}
